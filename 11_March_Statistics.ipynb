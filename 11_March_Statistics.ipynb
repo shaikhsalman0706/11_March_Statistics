{
 "cells": [
  {
   "cell_type": "markdown",
   "id": "7d8daedf",
   "metadata": {},
   "source": [
    "### Q1: What is the difference between a t-test and a z-test? Provide an example scenario where you would use each type of test."
   ]
  },
  {
   "cell_type": "markdown",
   "id": "c8d551ff",
   "metadata": {},
   "source": [
    "#### Both t-tests and z-tests are statistical hypothesis tests used to determine whether a sample mean is significantly different from a population mean. However, they differ in their assumptions and the circumstances in which they are appropriate to use.\n",
    "\n",
    "#### A t-test is used when the sample size is small (typically less than 30) or when the population standard deviation is unknown. It assumes that the data is normally distributed, and it is sensitive to the presence of outliers in the sample data.\n",
    "\n",
    "#### On the other hand, a z-test is used when the sample size is large (typically greater than 30) and when the population standard deviation is known. It assumes that the data is normally distributed and is not sensitive to the presence of outliers in the sample data.\n",
    "\n",
    "###### Here are two scenarios where each type of test would be appropriate:\n",
    "\n",
    "###### Scenario 1: A pharmaceutical company is testing a new drug to lower blood pressure. They recruit 20 patients with high blood pressure and give them the drug. They measure their blood pressure before and after the treatment to see if the drug is effective in lowering blood pressure. A t-test would be appropriate to analyze this data because the sample size is small and the population standard deviation is unknown.\n",
    "\n",
    "###### Scenario 2: A company wants to know if the average height of their employees is significantly different from the average height of the population. They randomly sample 100 employees and measure their heights. A z-test would be appropriate to analyze this data because the sample size is large and the population standard deviation is known (or assumed to be known)."
   ]
  },
  {
   "cell_type": "markdown",
   "id": "70f254c6",
   "metadata": {},
   "source": [
    "### Q2: Differentiate between one-tailed and two-tailed tests."
   ]
  },
  {
   "cell_type": "markdown",
   "id": "1a49aed6",
   "metadata": {},
   "source": [
    "#### In statistical hypothesis testing, a one-tailed test and a two-tailed test differ in how they define the alternative hypothesis and the corresponding critical region.\n",
    "\n",
    "###### In a one-tailed test, the alternative hypothesis is directional, and it is expressed as either \"greater than\" or \"less than\" the null hypothesis. The critical region is defined in only one direction, either in the upper tail or lower tail of the sampling distribution.\n",
    "\n",
    "##### For example, suppose a researcher wants to test whether a new medication is more effective than a placebo. The null hypothesis would be that the medication is not more effective than the placebo, while the alternative hypothesis would be that the medication is greater than the placebo. A one-tailed test would be used to test this hypothesis, with the critical region being defined in the upper tail of the sampling distribution.\n",
    "\n",
    "###### In contrast, in a two-tailed test, the alternative hypothesis is non-directional, and it is expressed as \"not equal to\" the null hypothesis. The critical region is defined in both directions of the sampling distribution, with a significance level divided equally between the upper and lower tails.\n",
    "\n",
    "##### For example, suppose a researcher wants to test whether there is a difference in IQ scores between males and females. The null hypothesis would be that there is no difference in IQ scores between males and females, while the alternative hypothesis would be that there is a difference in IQ scores between males and females. A two-tailed test would be used to test this hypothesis, with the critical region being defined in both the upper and lower tails of the sampling distribution.\n",
    "\n",
    "###### In summary, a one-tailed test is used when the alternative hypothesis is directional and the researcher is interested in testing for one specific direction of effect, while a two-tailed test is used when the alternative hypothesis is non-directional and the researcher is interested in testing for any significant difference between groups."
   ]
  },
  {
   "cell_type": "markdown",
   "id": "b968664b",
   "metadata": {},
   "source": [
    "### Q3: Explain the concept of Type 1 and Type 2 errors in hypothesis testing. Provide an example scenario for each type of error."
   ]
  },
  {
   "cell_type": "markdown",
   "id": "54291d40",
   "metadata": {},
   "source": [
    "#### In hypothesis testing, Type 1 and Type 2 errors are two types of errors that can occur when making a decision about whether to reject or fail to reject the null hypothesis.\n",
    "\n",
    "###### Type 1 error occurs when the null hypothesis is rejected when it is actually true. It is also known as a false positive error, and the significance level of the test (alpha) determines the probability of making a Type 1 error. A smaller alpha level reduces the probability of making a Type 1 error.\n",
    "\n",
    "##### For example, in a clinical trial for a new drug, the null hypothesis would be that the drug has no effect, and the alternative hypothesis would be that the drug has a significant effect. If the trial results in a significant difference in the treatment group compared to the control group, and the null hypothesis is rejected, but in reality, the drug has no effect, this would be a Type 1 error.\n",
    "\n",
    "###### Type 2 error occurs when the null hypothesis is not rejected when it is actually false. It is also known as a false negative error, and it is dependent on the sample size, the magnitude of the effect, and the level of significance used in the test (alpha). A larger sample size or a larger effect size reduces the probability of making a Type 2 error.\n",
    "\n",
    "##### For example, in a criminal trial, the null hypothesis would be that the defendant is innocent, and the alternative hypothesis would be that the defendant is guilty. If the trial results in the null hypothesis being accepted, but in reality, the defendant is guilty, this would be a Type 2 error.\n",
    "\n",
    "###### In summary, Type 1 error occurs when the null hypothesis is rejected when it is true, while Type 2 error occurs when the null hypothesis is not rejected when it is false. Both types of errors are important to consider when making decisions in hypothesis testing as they can have significant consequences in various fields of study."
   ]
  },
  {
   "cell_type": "markdown",
   "id": "92085d25",
   "metadata": {},
   "source": [
    "### Q4: Explain Bayes's theorem with an example."
   ]
  },
  {
   "cell_type": "markdown",
   "id": "c25ccdec",
   "metadata": {},
   "source": [
    "#### Bayes's theorem is a fundamental concept in probability theory that provides a way to update prior probabilities based on new information. It is commonly used in statistics, machine learning, and artificial intelligence to make predictions and decisions based on available data.\n",
    "\n",
    "#### The theorem states that the probability of an event A, given that event B has occurred, is proportional to the probability of event B given that event A has occurred, times the prior probability of event A, divided by the prior probability of event B.\n",
    "\n",
    "#### Mathematically, Bayes's theorem can be written as:\n",
    "\n",
    "###### P(A | B) = P(B | A) * P(A) / P(B)\n",
    "\n",
    "#### where P(A | B) is the conditional probability of event A given event B, P(B | A) is the conditional probability of event B given event A, P(A) is the prior probability of event A, and P(B) is the prior probability of event B.\n",
    "\n",
    "#### Here's an example scenario to illustrate how Bayes's theorem works:\n",
    "\n",
    "#### Suppose a medical test is used to detect a rare disease that affects 1 in 10,000 people. The test is 99% accurate, meaning that it correctly identifies 99% of people who have the disease and 99% of people who do not have the disease.\n",
    "\n",
    "#### If a person tests positive for the disease, what is the probability that they actually have the disease?\n",
    "\n",
    "#### Using Bayes's theorem, we can calculate the probability as follows:\n",
    "\n",
    "#### Let A be the event that the person has the disease, and let B be the event that the person tests positive for the disease.\n",
    "\n",
    "###### P(A) = 1/10,000 (prior probability of having the disease)\n",
    "###### P(B | A) = 0.99 (probability of testing positive given that the person has the disease)\n",
    "###### P(B | not A) = 0.01 (probability of testing positive given that the person does not have the disease)\n",
    "###### P(not A) = 1 - P(A) = 9,999/10,000 (prior probability of not having the disease)\n",
    "###### Using these probabilities and applying Bayes's theorem, we can calculate the probability of having the disease given that the person tests positive:\n",
    "\n",
    "###### P(A | B) = P(B | A) * P(A) / P(B)\n",
    "###### = 0.99 * (1/10,000) / ((0.99 * 1/10,000) + (0.01 * 9,999/10,000))\n",
    "###### = 0.0098 (or approximately 0.98%)\n",
    "\n",
    "#### Therefore, even though the test result is positive, the probability of having the disease is only 0.98%, which shows the importance of considering prior probabilities and conditional probabilities when making decisions based on data."
   ]
  },
  {
   "cell_type": "markdown",
   "id": "c4de4ef4",
   "metadata": {},
   "source": [
    "### Q5: What is a confidence interval? How to calculate the confidence interval, explain with an example."
   ]
  },
  {
   "cell_type": "markdown",
   "id": "08793999",
   "metadata": {},
   "source": [
    "#### A confidence interval is a statistical range of values that is used to estimate the true value of a population parameter with a certain degree of confidence. It is calculated from a sample of data and provides a range of values within which the true population parameter is likely to fall.\n",
    "\n",
    "#### The confidence interval is determined by two factors: the level of confidence and the sample size. The level of confidence represents the probability that the true population parameter falls within the calculated interval. Commonly used levels of confidence are 90%, 95%, and 99%. The sample size affects the width of the interval; larger sample sizes lead to narrower intervals.\n",
    "\n",
    "###### To calculate a confidence interval, follow these steps:\n",
    "\n",
    "Determine the level of confidence and the sample size.\n",
    "\n",
    "Calculate the sample mean and the sample standard deviation.\n",
    "\n",
    "Determine the appropriate critical value from a statistical table or by using a statistical calculator.\n",
    "\n",
    "Calculate the margin of error, which is equal to the critical value multiplied by the standard error of the sample mean.\n",
    "\n",
    "Calculate the lower and upper bounds of the confidence interval by subtracting and adding the margin of error from the sample mean, respectively.\n",
    "\n",
    "###### For example, suppose a sample of 50 students is selected from a population, and their average height is 65 inches with a standard deviation of 3 inches. We want to calculate a 95% confidence interval for the population mean height. Using a t-distribution table with 49 degrees of freedom (n-1), the critical value for a 95% confidence interval is 2.009.\n",
    "\n",
    "The standard error of the sample mean is calculated by dividing the sample standard deviation by the square root of the sample size:\n",
    "\n",
    "Standard error = 3 / sqrt(50) = 0.4243\n",
    "\n",
    "The margin of error is equal to the critical value multiplied by the standard error:\n",
    "\n",
    "Margin of error = 2.009 x 0.4243 = 0.853\n",
    "\n",
    "The lower and upper bounds of the confidence interval are calculated by subtracting and adding the margin of error from the sample mean:\n",
    "\n",
    "Lower bound = 65 - 0.853 = 64.147\n",
    "\n",
    "Upper bound = 65 + 0.853 = 65.853\n",
    "\n",
    "Therefore, we can say with 95% confidence that the true population mean height falls between 64.147 inches and 65.853 inches."
   ]
  },
  {
   "cell_type": "markdown",
   "id": "aa50033a",
   "metadata": {},
   "source": [
    "### Q6. Use Bayes' Theorem to calculate the probability of an event occurring given prior knowledge of the event's probability and new evidence. Provide a sample problem and solution."
   ]
  },
  {
   "cell_type": "markdown",
   "id": "c8b0d640",
   "metadata": {},
   "source": [
    "#### Bayes' Theorem is a mathematical formula that allows us to calculate the probability of an event occurring based on prior knowledge of the event's probability and new evidence.\n",
    "\n",
    "##### The formula for Bayes' Theorem is:\n",
    "\n",
    "###### P(A|B) = P(B|A) * P(A) / P(B)\n",
    "\n",
    "######  Where:\n",
    "P(A|B) is the probability of event A occurring given that event B has occurred.\n",
    "P(B|A) is the probability of event B occurring given that event A has occurred.\n",
    "P(A) is the prior probability of event A occurring.\n",
    "P(B) is the prior probability of event B occurring.\n",
    "\n",
    "###### To apply Bayes' Theorem, we need to know the prior probability of the event A and B, as well as the conditional probabilities of B given A and A given B. Then we can calculate the probability of A given B.\n",
    "\n",
    "###### For example, suppose a clinic offers a COVID-19 test that is 98% accurate. This means that if someone has COVID-19, the test will correctly identify them as positive 98% of the time. If someone does not have COVID-19, the test will correctly identify them as negative 95% of the time. Suppose the prevalence of COVID-19 in the population is 1%.\n",
    "\n",
    "What is the probability that a person has COVID-19 given that they test positive for COVID-19?\n",
    "\n",
    "We can apply Bayes' Theorem to solve this problem:\n",
    "\n",
    "###### Let A be the event that a person has COVID-19 and B be the event that a person tests positive for COVID-19.\n",
    "\n",
    "P(A) = 0.01 (the prevalence of COVID-19 in the population)\n",
    "P(B|A) = 0.98 (the probability of testing positive given that a person has COVID-19)\n",
    "P(B|¬A) = 0.05 (the probability of testing positive given that a person does not have COVID-19)\n",
    "\n",
    "###### We can calculate the prior probability of testing positive as follows:\n",
    "\n",
    "P(B) = P(B|A) * P(A) + P(B|¬A) * P(¬A)\n",
    "= 0.98 * 0.01 + 0.05 * 0.99\n",
    "= 0.0585\n",
    "\n",
    "###### Using Bayes' Theorem, we can calculate the probability that a person has COVID-19 given that they test positive for COVID-19:\n",
    "\n",
    "P(A|B) = P(B|A) * P(A) / P(B)\n",
    "= 0.98 * 0.01 / 0.0585\n",
    "= 0.167\n",
    "\n",
    "###### Therefore, the probability that a person has COVID-19 given that they test positive for COVID-19 is approximately 16.7%."
   ]
  },
  {
   "cell_type": "markdown",
   "id": "e78b0b82",
   "metadata": {},
   "source": [
    "### Q7. Calculate the 95% confidence interval for a sample of data with a mean of 50 and a standard deviation of 5. Interpret the results."
   ]
  },
  {
   "cell_type": "markdown",
   "id": "87193839",
   "metadata": {},
   "source": [
    "#### To calculate the 95% confidence interval for a sample of data with a mean of 50 and a standard deviation of 5, we need to use the formula:\n",
    "\n",
    "###### CI = X ± (Zα/2)(σ/√n)\n",
    "\n",
    "###### Where:\n",
    "CI is the confidence interval\n",
    "X is the sample mean\n",
    "Zα/2 is the critical value of the standard normal distribution at the 95% confidence level, which is 1.96\n",
    "σ is the population standard deviation, which is unknown and replaced by the sample standard deviation\n",
    "n is the sample size\n",
    "\n",
    "###### Substituting the values, we get:\n",
    "\n",
    "###### CI = 50 ± (1.96)(5/√n)\n",
    "\n",
    "Since the sample size is unknown, we cannot determine the exact confidence interval. However, we can provide a range of values for different sample sizes.\n",
    "\n",
    "###### For example, if the sample size is 100, we have:\n",
    "\n",
    "#### CI = 50 ± (1.96)(5/√100)\n",
    "#### = 50 ± 0.98\n",
    "#### = [49.02, 50.98]\n",
    "\n",
    "###### Interpreting the results, we can say that we are 95% confident that the true population mean falls within the range of 49.02 to 50.98. This means that if we were to take multiple random samples from the population, 95% of the time the sample mean would fall within this range."
   ]
  },
  {
   "cell_type": "markdown",
   "id": "0c627655",
   "metadata": {},
   "source": [
    "### Q8. What is the margin of error in a confidence interval? How does sample size affect the margin of error? Provide an example of a scenario where a larger sample size would result in a smaller margin of error."
   ]
  },
  {
   "cell_type": "markdown",
   "id": "ba857dd3",
   "metadata": {},
   "source": [
    "#### The margin of error in a confidence interval is the range of values that is added to and subtracted from the point estimate (such as the sample mean or proportion) to create an interval that is likely to contain the true population value with a certain level of confidence. It represents the maximum amount of error that we can tolerate in our estimation. The margin of error is affected by the sample size, level of confidence, and the variability of the population.\n",
    "\n",
    "#### A larger sample size generally results in a smaller margin of error. This is because a larger sample size provides more information about the population and reduces the random variability in the sample mean or proportion. As a result, the point estimate becomes more precise, and the interval around it becomes narrower, which decreases the margin of error.\n",
    "\n",
    "###### For example, suppose we want to estimate the average height of students in a college with a 95% confidence level and a margin of error of 1 inch. If we take a sample of 50 students and calculate the sample mean and standard deviation to be 68 inches and 3 inches, respectively, the 95% confidence interval would be:\n",
    "\n",
    "#### CI = 68 ± (1.96)(3/√50)\n",
    "#### = 68 ± 0.84\n",
    "#### = [67.16, 68.84]\n",
    "\n",
    "###### If we increase the sample size to 200 students and calculate the sample mean and standard deviation to be 68 inches and 3 inches, respectively, the 95% confidence interval would be:\n",
    "\n",
    "#### CI = 68 ± (1.96)(3/√200)\n",
    "#### = 68 ± 0.66\n",
    "#### = [67.34, 68.66]\n",
    "\n",
    "#### As we can see, the larger sample size results in a smaller margin of error and a narrower confidence interval. This means that we can be more confident that the true population mean falls within this interval.\n",
    "\n",
    "###### In summary, the margin of error represents the maximum amount of error that we can tolerate in our estimation, and a larger sample size generally results in a smaller margin of error and a more precise estimate."
   ]
  },
  {
   "cell_type": "markdown",
   "id": "661a0720",
   "metadata": {},
   "source": [
    "### Q9. Calculate the z-score for a data point with a value of 75, a population mean of 70, and a population standard deviation of 5. Interpret the results."
   ]
  },
  {
   "cell_type": "markdown",
   "id": "8f5b80fd",
   "metadata": {},
   "source": [
    "#### The z-score is a standardized score that represents the number of standard deviations a data point is from the population mean. It can be calculated using the formula:\n",
    "\n",
    "###### z = (X - μ) / σ\n",
    "\n",
    "###### where X is the value of the data point, μ is the population mean, and σ is the population standard deviation.\n",
    "\n",
    "#### Substituting the values given, we get:\n",
    "\n",
    "###### z = (75 - 70) / 5\n",
    "###### = 1\n",
    "\n",
    "###### This means that the data point with a value of 75 is 1 standard deviation above the population mean of 70. In other words, the value of 75 is higher than the average value in the population by 1 standard deviation. The positive sign indicates that the data point is above the population mean. A z-score of 1 is also equivalent to being at the 84th percentile of the population distribution, meaning that 84% of the population has a value lower than 75."
   ]
  },
  {
   "cell_type": "markdown",
   "id": "2d60d86f",
   "metadata": {},
   "source": [
    "### Q10. In a study of the effectiveness of a new weight loss drug, a sample of 50 participants lost an average of 6 pounds with a standard deviation of 2.5 pounds. Conduct a hypothesis test to determine if the drug is significantly effective at a 95% confidence level using a t-test."
   ]
  },
  {
   "cell_type": "markdown",
   "id": "9628b8a7",
   "metadata": {},
   "source": [
    "#### To conduct a hypothesis test to determine if the weight loss drug is significantly effective at a 95% confidence level using a t-test, we need to follow these steps:\n",
    "\n",
    "###### Step 1: State the null and alternative hypotheses\n",
    "##### The null hypothesis (H0) is that the drug is not significantly effective, meaning that the population mean weight loss is equal to or less than zero:\n",
    "###### H0: μ ≤ 0\n",
    "##### The alternative hypothesis (Ha) is that the drug is significantly effective, meaning that the population mean weight loss is greater than zero:\n",
    "###### Ha: μ > 0\n",
    "\n",
    "###### Step 2: Determine the significance level and the appropriate test statistic\n",
    "##### The significance level (α) is 0.05 for a 95% confidence level. Since the population standard deviation is unknown, we will use a t-test with (n-1) degrees of freedom.\n",
    "\n",
    "###### Step 3: Calculate the test statistic\n",
    "##### We can calculate the test statistic using the formula:\n",
    "\n",
    "##### t = (X - μ) / (s / sqrt(n))\n",
    "\n",
    "###### Where X is the sample mean, μ is the hypothesized population mean under the null hypothesis (which is zero in this case), s is the sample standard deviation, and n is the sample size.\n",
    "\n",
    "##### Substituting the values, we get:\n",
    "\n",
    "###### t = (6 - 0) / (2.5 / sqrt(50))\n",
    "#### = 12\n",
    "\n",
    "###### Step 4: Determine the p-value\n",
    "##### The p-value is the probability of obtaining a sample mean as extreme or more extreme than the observed sample mean, assuming that the null hypothesis is true. Since this is a one-tailed test in the positive direction, we need to find the area under the t-distribution curve to the right of the test statistic (12) with (50-1) degrees of freedom. Using a t-distribution table or calculator, we find that the p-value is less than 0.0001.\n",
    "\n",
    "###### Step 5: Make a decision\n",
    "##### Since the p-value (less than 0.0001) is smaller than the significance level (0.05), we reject the null hypothesis. This means that we have sufficient evidence to conclude that the weight loss drug is significantly effective at a 95% confidence level.\n",
    "\n",
    "###### In conclusion, the results of the t-test indicate that the weight loss drug is significantly effective, and we reject the null hypothesis that the drug is not significantly effective. However, it is important to note that this conclusion is based on the assumption that the sample is representative of the population and that the data meets the assumptions of normality and independence."
   ]
  },
  {
   "cell_type": "markdown",
   "id": "0f13a71e",
   "metadata": {},
   "source": [
    "#### Q11. In a survey of 500 people, 65% reported being satisfied with their current job. Calculate the 95% confidence interval for the true proportion of people who are satisfied with their job."
   ]
  },
  {
   "cell_type": "markdown",
   "id": "e17bc765",
   "metadata": {},
   "source": [
    "#### To calculate the 95% confidence interval for the true proportion of people who are satisfied with their job, we can use the following formula:\n",
    "\n",
    "###### CI = p ± z*(sqrt(p*(1-p)/n))\n",
    "\n",
    "#### Where:\n",
    "\n",
    "#### CI is the confidence interval\n",
    "#### p is the sample proportion\n",
    "#### z is the z-score for the desired level of confidence (which is 1.96 for a 95% confidence interval)\n",
    "#### n is the sample size\n",
    "#### Substituting the values given, we get:\n",
    "\n",
    "##### CI = 0.65 ± 1.96*(sqrt(0.65*(1-0.65)/500))\n",
    "\n",
    "##### CI = 0.65 ± 0.048\n",
    "\n",
    "##### CI = [0.602, 0.698]\n",
    "\n",
    "###### Therefore, we can say with 95% confidence that the true proportion of people who are satisfied with their job is between 0.602 and 0.698. This means that if we were to repeat the survey many times and calculate the 95% confidence interval each time, we would expect the true proportion of satisfied people to be within this range in 95% of the surveys."
   ]
  },
  {
   "cell_type": "markdown",
   "id": "2e0a4018",
   "metadata": {},
   "source": [
    "### Q12. A researcher is testing the effectiveness of two different teaching methods on student performance. Sample A has a mean score of 85 with a standard deviation of 6, while sample B has a mean score of 82 with a standard deviation of 5. Conduct a hypothesis test to determine if the two teaching methods have a significant difference in student performance using a t-test with a significance level of 0.01."
   ]
  },
  {
   "cell_type": "markdown",
   "id": "26855484",
   "metadata": {},
   "source": [
    "#### To conduct a hypothesis test to determine if there is a significant difference in student performance between the two teaching methods, we need to follow these steps:\n",
    "\n",
    "###### Step 1: State the null and alternative hypotheses\n",
    "##### The null hypothesis (H0) is that there is no significant difference in student performance between the two teaching methods, meaning that the population means are equal:\n",
    "###### H0: μA - μB = 0\n",
    "##### The alternative hypothesis (Ha) is that there is a significant difference in student performance between the two teaching methods, meaning that the population means are not equal:\n",
    "###### Ha: μA - μB ≠ 0\n",
    "\n",
    "###### Step 2: Determine the significance level and the appropriate test statistic\n",
    "##### The significance level (α) is 0.01. Since the population standard deviations are unknown and the sample sizes are small, we will use a two-sample t-test.\n",
    "\n",
    "###### Step 3: Calculate the test statistic\n",
    "##### We can calculate the test statistic using the formula:\n",
    "\n",
    "###### t = (X̄A - X̄B) / (sqrt(Sp^2/nA + Sp^2/nB))\n",
    "\n",
    "##### Where X̄A and X̄B are the sample means, Sp^2 is the pooled variance (calculated as (nA-1)sA^2 + (nB-1)sB^2 / (nA+nB-2)), nA and nB are the sample sizes, and sA and sB are the sample standard deviations.\n",
    "\n",
    "##### Substituting the values given, we get:\n",
    "\n",
    "###### t = (85 - 82) / (sqrt(((496^2)+(645^2))/(49+64-2) * (1/49 + 1/64)))\n",
    "###### = 2.28 (rounded to two decimal places)\n",
    "\n",
    "###### Step 4: Determine the p-value\n",
    "##### The p-value is the probability of obtaining a test statistic as extreme or more extreme than the observed test statistic, assuming that the null hypothesis is true. Since this is a two-tailed test, we need to find the area under the t-distribution curve to the left of the negative test statistic (-2.28) and to the right of the positive test statistic (2.28) with (49+64-2) = 111 degrees of freedom. Using a t-distribution table or calculator, we find that the p-value is less than 0.01.\n",
    "\n",
    "###### Step 5: Make a decision\n",
    "##### Since the p-value (less than 0.01) is smaller than the significance level (0.01), we reject the null hypothesis. This means that we have sufficient evidence to conclude that there is a significant difference in student performance between the two teaching methods at a significance level of 0.01.\n",
    "\n",
    "###### In conclusion, the results of the t-test indicate that the two teaching methods have a significant difference in student performance, and we reject the null hypothesis that there is no significant difference. However, it is important to note that this conclusion is based on the assumption that the samples are representative of their respective populations and that the data meets the assumptions of normality and independence."
   ]
  },
  {
   "cell_type": "markdown",
   "id": "fa6d9e2e",
   "metadata": {},
   "source": [
    "### Q13. A population has a mean of 60 and a standard deviation of 8. A sample of 50 observations has a mean of 65. Calculate the 90% confidence interval for the true population mean."
   ]
  },
  {
   "cell_type": "markdown",
   "id": "4db2dccb",
   "metadata": {},
   "source": [
    "#### To calculate the 90% confidence interval for the true population mean, we can use the following formula:\n",
    "\n",
    "###### CI = X̄ ± z*(σ/√n)\n",
    "\n",
    "#### Where CI is the confidence interval, X̄ is the sample mean, z is the z-score corresponding to the desired confidence level (in this case, 90%), σ is the population standard deviation, and n is the sample size.\n",
    "\n",
    "#### Substituting the values given, we get:\n",
    "\n",
    "###### CI = 65 ± z*(8/√50)\n",
    "\n",
    "#### To find the value of z, we can use a z-table or calculator. For a 90% confidence level, the corresponding z-value is 1.645 (rounded to three decimal places).\n",
    "\n",
    "#### Substituting the value of z, we get:\n",
    "\n",
    "###### CI = 65 ± 1.645*(8/√50)\n",
    "###### = 65 ± 2.304\n",
    "###### = (62.696, 67.304)\n",
    "\n",
    "###### Therefore, the 90% confidence interval for the true population mean is (62.696, 67.304). We can interpret this interval as follows: if we were to repeat this study many times and calculate the confidence interval for each sample, we would expect 90% of these intervals to contain the true population mean of 60."
   ]
  },
  {
   "cell_type": "markdown",
   "id": "2b86dfbe",
   "metadata": {},
   "source": [
    "### Q14. In a study of the effects of caffeine on reaction time, a sample of 30 participants had an average reaction time of 0.25 seconds with a standard deviation of 0.05 seconds. Conduct a hypothesis test to determine if the caffeine has a significant effect on reaction time at a 90% confidence level using a t-test."
   ]
  },
  {
   "cell_type": "markdown",
   "id": "b0fd1c9f",
   "metadata": {},
   "source": [
    "#### To conduct a hypothesis test to determine if caffeine has a significant effect on reaction time, we need to set up the null and alternative hypotheses:\n",
    "\n",
    "###### Null hypothesis (H0): The mean reaction time for participants who consumed caffeine is equal to the mean reaction time for participants who did not consume caffeine.\n",
    "\n",
    "###### Alternative hypothesis (Ha): The mean reaction time for participants who consumed caffeine is significantly different from the mean reaction time for participants who did not consume caffeine.\n",
    "\n",
    "##### We will use a two-tailed t-test, since the alternative hypothesis is non-directional (it simply states that the means are different, without specifying whether caffeine increases or decreases reaction time). The significance level is 0.10 (90% confidence level).\n",
    "\n",
    "##### We can calculate the t-value using the formula:\n",
    "\n",
    "###### t = (X̄ - μ) / (s / √n)\n",
    "\n",
    "##### Where X̄ is the sample mean, μ is the hypothesized population mean (in this case, we assume it is equal to the mean of the control group), s is the sample standard deviation, and n is the sample size.\n",
    "\n",
    "##### Substituting the values given, we get:\n",
    "\n",
    "###### t = (0.25 - μ) / (0.05 / √30)\n",
    "\n",
    "##### We do not know the population mean μ, but we assume it is equal to the mean reaction time of the control group (which we do not have). For the purposes of this example, let's assume the control group had a mean reaction time of 0.28 seconds.\n",
    "\n",
    "##### Substituting this value, we get:\n",
    "\n",
    "###### t = (0.25 - 0.28) / (0.05 / √30)\n",
    "###### = -1.8\n",
    "\n",
    "###### The degrees of freedom for this test are n - 1 = 30 - 1 = 29. Using a t-table or calculator, we can find that the critical t-value for a two-tailed test with 29 degrees of freedom and a significance level of 0.10 is ±1.699.\n",
    "\n",
    "###### Since our calculated t-value (-1.8) falls outside the critical t-value range (-1.699 to 1.699), we reject the null hypothesis and conclude that caffeine has a significant effect on reaction time. Specifically, we can say that the mean reaction time for participants who consumed caffeine is significantly different from the mean reaction time for participants who did not consume caffeine."
   ]
  },
  {
   "cell_type": "code",
   "execution_count": null,
   "id": "aaf77dfc",
   "metadata": {},
   "outputs": [],
   "source": []
  }
 ],
 "metadata": {
  "kernelspec": {
   "display_name": "Python 3 (ipykernel)",
   "language": "python",
   "name": "python3"
  },
  "language_info": {
   "codemirror_mode": {
    "name": "ipython",
    "version": 3
   },
   "file_extension": ".py",
   "mimetype": "text/x-python",
   "name": "python",
   "nbconvert_exporter": "python",
   "pygments_lexer": "ipython3",
   "version": "3.9.13"
  }
 },
 "nbformat": 4,
 "nbformat_minor": 5
}
